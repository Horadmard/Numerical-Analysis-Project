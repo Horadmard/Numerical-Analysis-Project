{
  "nbformat": 4,
  "nbformat_minor": 0,
  "metadata": {
    "colab": {
      "provenance": [],
      "toc_visible": true,
      "include_colab_link": true
    },
    "kernelspec": {
      "name": "python3",
      "display_name": "Python 3"
    },
    "language_info": {
      "name": "python"
    }
  },
  "cells": [
    {
      "cell_type": "markdown",
      "metadata": {
        "id": "view-in-github",
        "colab_type": "text"
      },
      "source": [
        "<a href=\"https://colab.research.google.com/github/Horadmard/Numerical-Analysis-Project/blob/main/Numerical_Analysis.ipynb\" target=\"_parent\"><img src=\"https://colab.research.google.com/assets/colab-badge.svg\" alt=\"Open In Colab\"/></a>"
      ]
    },
    {
      "cell_type": "markdown",
      "source": [
        "# to be fix and research:\n",
        "\n",
        "*\n",
        "1. stop conditions\n",
        "2. theorem conditions\n",
        "3. round\n",
        "4. using sympy.diff\n",
        "5. methods\n",
        "*\n",
        "\n",
        "libraries:\n",
        "1. [matplotlib](https://matplotlib.org/stable/)\n",
        "2. [sympy](https://www.sympy.org/en/index.html)\n",
        "3. [numpy](https://numpy.org/)"
      ],
      "metadata": {
        "id": "JVP7h5s-HE3C"
      }
    },
    {
      "cell_type": "markdown",
      "source": [
        "# *Impoert Libraries:*"
      ],
      "metadata": {
        "id": "4bsuYphrnAQD"
      }
    },
    {
      "cell_type": "code",
      "execution_count": null,
      "metadata": {
        "id": "BOYBIqgqzJwr"
      },
      "outputs": [],
      "source": [
        "import math\n",
        "from sympy import *\n",
        "import sympy as sp\n",
        "from matplotlib import pyplot as plt\n",
        "import numpy as np"
      ]
    },
    {
      "cell_type": "markdown",
      "source": [
        "# *Tests:*"
      ],
      "metadata": {
        "id": "0qKaefMnnP9J"
      }
    },
    {
      "cell_type": "code",
      "source": [
        "# test"
      ],
      "metadata": {
        "id": "Xf7kxA9Hpclr"
      },
      "execution_count": null,
      "outputs": []
    },
    {
      "cell_type": "markdown",
      "source": [
        "# *Definition of Function:*"
      ],
      "metadata": {
        "id": "Ba1_P6NbzinW"
      }
    },
    {
      "cell_type": "code",
      "source": [
        "def f(x):\n",
        "    return 2 * x - math.sin(x) - .7"
      ],
      "metadata": {
        "id": "N7PYbAqJzODV"
      },
      "execution_count": null,
      "outputs": []
    },
    {
      "cell_type": "markdown",
      "source": [
        "# *Domain Definition:*"
      ],
      "metadata": {
        "id": "yWQdVZa-znPk"
      }
    },
    {
      "cell_type": "code",
      "source": [
        "a, b = 0, 1\n",
        "eps = .001\n",
        "\n",
        "# value of domain edges\n",
        "f(a), f(b)\n",
        "\n",
        "dom = np.arange(a, b+eps, eps)\n",
        "dom.shape"
      ],
      "metadata": {
        "id": "P6xM30P8zRPl",
        "colab": {
          "base_uri": "https://localhost:8080/"
        },
        "outputId": "c3ee1ca6-54f7-4ed0-dc09-ef3442268ed0"
      },
      "execution_count": null,
      "outputs": [
        {
          "output_type": "execute_result",
          "data": {
            "text/plain": [
              "(1001,)"
            ]
          },
          "metadata": {},
          "execution_count": 4
        }
      ]
    },
    {
      "cell_type": "markdown",
      "source": [
        "## *Checking the Theorem Conditions:*"
      ],
      "metadata": {
        "id": "5vtj9SRIz04M"
      }
    },
    {
      "cell_type": "code",
      "source": [
        "def Conditions():\n",
        "\n",
        "    if(f(a) * f(b) > 0):\n",
        "        print(\"f(a) * f(b) > 0\")\n",
        "        return False\n",
        "    # if(diff(f, x))\n",
        "    # Continuity\n",
        "\n",
        "\n",
        "    return True\n"
      ],
      "metadata": {
        "id": "2w5BEahJzRZt"
      },
      "execution_count": null,
      "outputs": []
    },
    {
      "cell_type": "markdown",
      "source": [
        "# *Continuity:*"
      ],
      "metadata": {
        "id": "xGB1AuKO201d"
      }
    },
    {
      "cell_type": "code",
      "source": [
        "x = sp.Symbol('x')\n",
        "f = f(x)\n",
        "\n",
        "for i in range(1, dom.shape[0]-1):\n",
        "  limit_left = sp.limit(f, x, dom[i], '-')\n",
        "  limit_right = sp.limit(f, x, dom[i], '+')\n",
        "\n",
        "  if limit_left == limit_right == f(dom[i]):\n",
        "      print(\"The function is continuous at x = 0.\")\n",
        "  else:\n",
        "      print(\"The function is not continuous at x = 0.\")\n"
      ],
      "metadata": {
        "colab": {
          "base_uri": "https://localhost:8080/",
          "height": 245
        },
        "id": "YqQq0ARs2_zE",
        "outputId": "02ce6047-3cf0-40d1-a733-93f10d423122"
      },
      "execution_count": null,
      "outputs": [
        {
          "output_type": "error",
          "ename": "NameError",
          "evalue": "ignored",
          "traceback": [
            "\u001b[0;31m---------------------------------------------------------------------------\u001b[0m",
            "\u001b[0;31mNameError\u001b[0m                                 Traceback (most recent call last)",
            "\u001b[0;32m<ipython-input-1-93c44091f280>\u001b[0m in \u001b[0;36m<cell line: 4>\u001b[0;34m()\u001b[0m\n\u001b[1;32m      2\u001b[0m     \u001b[0;32mreturn\u001b[0m \u001b[0mx\u001b[0m\u001b[0;34m*\u001b[0m\u001b[0;36m2\u001b[0m \u001b[0;34m-\u001b[0m \u001b[0mnp\u001b[0m\u001b[0;34m.\u001b[0m\u001b[0msin\u001b[0m\u001b[0;34m(\u001b[0m\u001b[0mx\u001b[0m\u001b[0;34m)\u001b[0m \u001b[0;34m-\u001b[0m \u001b[0;36m.7\u001b[0m\u001b[0;34m\u001b[0m\u001b[0;34m\u001b[0m\u001b[0m\n\u001b[1;32m      3\u001b[0m \u001b[0;34m\u001b[0m\u001b[0m\n\u001b[0;32m----> 4\u001b[0;31m \u001b[0mx\u001b[0m \u001b[0;34m=\u001b[0m \u001b[0msp\u001b[0m\u001b[0;34m.\u001b[0m\u001b[0mSymbol\u001b[0m\u001b[0;34m(\u001b[0m\u001b[0;34m'x'\u001b[0m\u001b[0;34m)\u001b[0m\u001b[0;34m\u001b[0m\u001b[0;34m\u001b[0m\u001b[0m\n\u001b[0m\u001b[1;32m      5\u001b[0m \u001b[0mf\u001b[0m \u001b[0;34m=\u001b[0m \u001b[0mmy_function\u001b[0m\u001b[0;34m(\u001b[0m\u001b[0mx\u001b[0m\u001b[0;34m)\u001b[0m\u001b[0;34m\u001b[0m\u001b[0;34m\u001b[0m\u001b[0m\n\u001b[1;32m      6\u001b[0m \u001b[0;34m\u001b[0m\u001b[0m\n",
            "\u001b[0;31mNameError\u001b[0m: name 'sp' is not defined"
          ]
        }
      ]
    },
    {
      "cell_type": "markdown",
      "source": [
        "# *Stop Conditions:*"
      ],
      "metadata": {
        "id": "25R9NH7X13-F"
      }
    },
    {
      "cell_type": "code",
      "source": [
        "eps = .01\n",
        "def SC1(x):\n",
        "\n",
        "  if(abs(f(x)) > eps):\n",
        "    return True\n",
        "\n",
        "  return False\n",
        "\n",
        "\n",
        "def SC2(x, y):\n",
        "\n",
        "  if(abs(x - y) < eps):\n",
        "    return True\n",
        "\n",
        "  return False\n",
        "\n",
        "\n",
        "def SC3(n):\n",
        "  i = 0\n",
        "  i += 1\n",
        "  if(i < n):\n",
        "    return True\n",
        "\n",
        "  return False"
      ],
      "metadata": {
        "id": "SPrCtLCI2Uj8"
      },
      "execution_count": null,
      "outputs": []
    },
    {
      "cell_type": "markdown",
      "source": [
        "# *Methods:*\n",
        "1- Bisection(divide and conquer)\n",
        "\n",
        "2- False Position Method (Regula Falsi Method)"
      ],
      "metadata": {
        "id": "uGpz8p_d7aTk"
      }
    },
    {
      "cell_type": "code",
      "source": [
        "def Bisec(a, b):\n",
        "  xn = (b + a) / 2\n",
        "  if (f(xn) * b > 0):\n",
        "    b = xn\n",
        "  else:\n",
        "    a = xn\n",
        "  return xn, a, b"
      ],
      "metadata": {
        "id": "0YD9jL4J7h_b"
      },
      "execution_count": null,
      "outputs": []
    },
    {
      "cell_type": "markdown",
      "source": [
        "# *plt.show:*"
      ],
      "metadata": {
        "id": "Nun23eddph6K"
      }
    },
    {
      "cell_type": "code",
      "source": [
        "# Generate x values from -10 to 10 with a step of 0.1\n",
        "x = np.arange(-10, 10, 0.1)\n",
        "\n",
        "# Calculate corresponding y values using the function\n",
        "# y = my_function(x)\n",
        "\n",
        "# Plot the function\n",
        "plt.plot(x, my_function(x))\n",
        "\n",
        "# Add a title and labels to the axes\n",
        "plt.title(\"Plot of my_function\")\n",
        "plt.xlabel(\"x\")\n",
        "plt.ylabel(\"y\")\n",
        "\n",
        "# Display the plot\n",
        "plt.show()"
      ],
      "metadata": {
        "colab": {
          "base_uri": "https://localhost:8080/",
          "height": 472
        },
        "id": "0w7Yroh6UNZq",
        "outputId": "30b47647-af94-483d-a73a-5857562bce2f"
      },
      "execution_count": null,
      "outputs": [
        {
          "output_type": "display_data",
          "data": {
            "text/plain": [
              "<Figure size 640x480 with 1 Axes>"
            ],
            "image/png": "[encoded data removed]"
          },
          "metadata": {}
        }
      ]
    },
    {
      "cell_type": "code",
      "source": [
        "plt.style.use('_mpl-gallery')\n",
        "\n",
        "# make data\n",
        "x = np.linspace(0, 8, 100)\n",
        "y = 2 * x - np.cos(x)\n",
        "\n",
        "# plot\n",
        "fig, ax = plt.subplots()\n",
        "\n",
        "ax.plot(x, y, linewidth=1.0)\n",
        "\n",
        "ax.set(xlim=(0, 8), xticks=np.arange(1, 8),\n",
        "       ylim=(0, 8), yticks=np.arange(1, 8))\n",
        "\n",
        "plt.show()"
      ],
      "metadata": {
        "id": "uyrptSmV2Nn-"
      },
      "execution_count": null,
      "outputs": []
    },
    {
      "cell_type": "markdown",
      "source": [
        "# *Start:*"
      ],
      "metadata": {
        "id": "cNQCuNXJYjlK"
      }
    },
    {
      "cell_type": "code",
      "source": [
        "xn = (b + a)/2\n",
        "xn = round(xn , 3)\n",
        "i = 5\n",
        "\n",
        "\n",
        "while(SC1(xn) and i>0):\n",
        "  xn, a, b = Bisec(a, b)\n",
        "  i -= 1\n",
        "\n",
        "print(xn, f(xn))"
      ],
      "metadata": {
        "id": "fGYfjoqxYmj3"
      },
      "execution_count": null,
      "outputs": []
    },
    {
      "cell_type": "code",
      "source": [
        "k = 5\n",
        "c = 6\n",
        "\n",
        "def test(k,c):\n",
        "  k += 1\n",
        "  c -= 1\n",
        "  return k , c\n",
        "\n",
        "k ,c = test(k ,c)\n",
        "k, c"
      ],
      "metadata": {
        "id": "ot92jgXQbdAy"
      },
      "execution_count": null,
      "outputs": []
    }
  ]
}